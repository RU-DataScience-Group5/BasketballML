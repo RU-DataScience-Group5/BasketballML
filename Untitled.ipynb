{
 "cells": [
  {
   "cell_type": "code",
   "execution_count": 1,
   "metadata": {},
   "outputs": [],
   "source": [
    "# Dependencies\n",
    "import pandas as pd\n",
    "import sklearn.datasets as dta\n",
    "import scipy.stats as st\n",
    "import matplotlib.pyplot as plt"
   ]
  },
  {
   "cell_type": "code",
   "execution_count": 3,
   "metadata": {},
   "outputs": [
    {
     "data": {
      "text/html": [
       "<div>\n",
       "<style scoped>\n",
       "    .dataframe tbody tr th:only-of-type {\n",
       "        vertical-align: middle;\n",
       "    }\n",
       "\n",
       "    .dataframe tbody tr th {\n",
       "        vertical-align: top;\n",
       "    }\n",
       "\n",
       "    .dataframe thead th {\n",
       "        text-align: right;\n",
       "    }\n",
       "</style>\n",
       "<table border=\"1\" class=\"dataframe\">\n",
       "  <thead>\n",
       "    <tr style=\"text-align: right;\">\n",
       "      <th></th>\n",
       "      <th>Player</th>\n",
       "      <th>PlayerID</th>\n",
       "      <th>Pos</th>\n",
       "      <th>Season</th>\n",
       "      <th>Tm</th>\n",
       "      <th>2P</th>\n",
       "      <th>2P%</th>\n",
       "      <th>2PA</th>\n",
       "      <th>3P</th>\n",
       "      <th>3P%</th>\n",
       "      <th>...</th>\n",
       "      <th>GS</th>\n",
       "      <th>MP</th>\n",
       "      <th>ORB</th>\n",
       "      <th>PF</th>\n",
       "      <th>PTS</th>\n",
       "      <th>Rk</th>\n",
       "      <th>STL</th>\n",
       "      <th>TOV</th>\n",
       "      <th>TRB</th>\n",
       "      <th>MVP</th>\n",
       "    </tr>\n",
       "  </thead>\n",
       "  <tbody>\n",
       "    <tr>\n",
       "      <th>0</th>\n",
       "      <td>Mahmoud Abdul-Rauf</td>\n",
       "      <td>abdulma02</td>\n",
       "      <td>PG</td>\n",
       "      <td>2000-01</td>\n",
       "      <td>VAN</td>\n",
       "      <td>116</td>\n",
       "      <td>0.500</td>\n",
       "      <td>232</td>\n",
       "      <td>4</td>\n",
       "      <td>0.286</td>\n",
       "      <td>...</td>\n",
       "      <td>0</td>\n",
       "      <td>486</td>\n",
       "      <td>5</td>\n",
       "      <td>50</td>\n",
       "      <td>266</td>\n",
       "      <td>1</td>\n",
       "      <td>9</td>\n",
       "      <td>26</td>\n",
       "      <td>25</td>\n",
       "      <td>0</td>\n",
       "    </tr>\n",
       "    <tr>\n",
       "      <th>1</th>\n",
       "      <td>Tariq Abdul-Wahad</td>\n",
       "      <td>abdulta01</td>\n",
       "      <td>SG</td>\n",
       "      <td>2000-01</td>\n",
       "      <td>DEN</td>\n",
       "      <td>39</td>\n",
       "      <td>0.386</td>\n",
       "      <td>101</td>\n",
       "      <td>4</td>\n",
       "      <td>0.400</td>\n",
       "      <td>...</td>\n",
       "      <td>12</td>\n",
       "      <td>420</td>\n",
       "      <td>14</td>\n",
       "      <td>54</td>\n",
       "      <td>111</td>\n",
       "      <td>2</td>\n",
       "      <td>14</td>\n",
       "      <td>34</td>\n",
       "      <td>59</td>\n",
       "      <td>0</td>\n",
       "    </tr>\n",
       "    <tr>\n",
       "      <th>2</th>\n",
       "      <td>Shareef Abdur-Rahim</td>\n",
       "      <td>abdursh01</td>\n",
       "      <td>SF</td>\n",
       "      <td>2000-01</td>\n",
       "      <td>VAN</td>\n",
       "      <td>592</td>\n",
       "      <td>0.487</td>\n",
       "      <td>1216</td>\n",
       "      <td>12</td>\n",
       "      <td>0.188</td>\n",
       "      <td>...</td>\n",
       "      <td>81</td>\n",
       "      <td>3241</td>\n",
       "      <td>175</td>\n",
       "      <td>238</td>\n",
       "      <td>1663</td>\n",
       "      <td>3</td>\n",
       "      <td>90</td>\n",
       "      <td>231</td>\n",
       "      <td>735</td>\n",
       "      <td>0</td>\n",
       "    </tr>\n",
       "    <tr>\n",
       "      <th>3</th>\n",
       "      <td>Cory Alexander</td>\n",
       "      <td>alexaco01</td>\n",
       "      <td>PG</td>\n",
       "      <td>2000-01</td>\n",
       "      <td>ORL</td>\n",
       "      <td>14</td>\n",
       "      <td>0.350</td>\n",
       "      <td>40</td>\n",
       "      <td>4</td>\n",
       "      <td>0.250</td>\n",
       "      <td>...</td>\n",
       "      <td>0</td>\n",
       "      <td>227</td>\n",
       "      <td>0</td>\n",
       "      <td>29</td>\n",
       "      <td>52</td>\n",
       "      <td>4</td>\n",
       "      <td>16</td>\n",
       "      <td>25</td>\n",
       "      <td>25</td>\n",
       "      <td>0</td>\n",
       "    </tr>\n",
       "    <tr>\n",
       "      <th>4</th>\n",
       "      <td>Courtney Alexander</td>\n",
       "      <td>alexaco02</td>\n",
       "      <td>PG</td>\n",
       "      <td>2000-01</td>\n",
       "      <td>TOT</td>\n",
       "      <td>222</td>\n",
       "      <td>0.421</td>\n",
       "      <td>527</td>\n",
       "      <td>17</td>\n",
       "      <td>0.370</td>\n",
       "      <td>...</td>\n",
       "      <td>24</td>\n",
       "      <td>1382</td>\n",
       "      <td>42</td>\n",
       "      <td>139</td>\n",
       "      <td>618</td>\n",
       "      <td>5</td>\n",
       "      <td>45</td>\n",
       "      <td>75</td>\n",
       "      <td>143</td>\n",
       "      <td>0</td>\n",
       "    </tr>\n",
       "  </tbody>\n",
       "</table>\n",
       "<p>5 rows × 33 columns</p>\n",
       "</div>"
      ],
      "text/plain": [
       "                Player   PlayerID Pos   Season   Tm   2P    2P%   2PA  3P  \\\n",
       "0   Mahmoud Abdul-Rauf  abdulma02  PG  2000-01  VAN  116  0.500   232   4   \n",
       "1    Tariq Abdul-Wahad  abdulta01  SG  2000-01  DEN   39  0.386   101   4   \n",
       "2  Shareef Abdur-Rahim  abdursh01  SF  2000-01  VAN  592  0.487  1216  12   \n",
       "3       Cory Alexander  alexaco01  PG  2000-01  ORL   14  0.350    40   4   \n",
       "4   Courtney Alexander  alexaco02  PG  2000-01  TOT  222  0.421   527  17   \n",
       "\n",
       "     3P%  ...  GS    MP  ORB   PF   PTS  Rk  STL  TOV  TRB  MVP  \n",
       "0  0.286  ...   0   486    5   50   266   1    9   26   25    0  \n",
       "1  0.400  ...  12   420   14   54   111   2   14   34   59    0  \n",
       "2  0.188  ...  81  3241  175  238  1663   3   90  231  735    0  \n",
       "3  0.250  ...   0   227    0   29    52   4   16   25   25    0  \n",
       "4  0.370  ...  24  1382   42  139   618   5   45   75  143    0  \n",
       "\n",
       "[5 rows x 33 columns]"
      ]
     },
     "execution_count": 3,
     "metadata": {},
     "output_type": "execute_result"
    }
   ],
   "source": [
    "mvp = pd.read_csv(\"Data/AllPlayerData.csv\")\n",
    "mvp = mvp.drop(\"Table Name\", axis = 1)\n",
    "mvp\n",
    "mvp_2020 = mvp.loc[mvp[\"Season\"] == \"2019-20\"]\n",
    "mvp = mvp.loc[mvp[\"Season\"] != \"2019-20\"]\n",
    "mvp.head()"
   ]
  },
  {
   "cell_type": "code",
   "execution_count": 21,
   "metadata": {},
   "outputs": [
    {
     "name": "stdout",
     "output_type": "stream",
     "text": [
      "Correlation between Minutes and Total points is 0.9269083386578335\n"
     ]
    },
    {
     "data": {
      "image/png": "[encoded data removed]",
      "text/plain": [
       "<Figure size 432x288 with 1 Axes>"
      ]
     },
     "metadata": {
      "needs_background": "light"
     },
     "output_type": "display_data"
    }
   ],
   "source": [
    "minutes = mvp.iloc[:,24]\n",
    "points = mvp.iloc[:,27]\n",
    "plt.scatter(minutes,points)\n",
    "plt.xlabel(\"Minutes\")\n",
    "plt.ylabel(\"Total Points\")\n",
    "plt.show\n",
    "\n",
    "correlation = st.pearsonr(minutes, points)\n",
    "print(f\"Correlation between Minutes and Total points is {correlation[0]}\")"
   ]
  },
  {
   "cell_type": "code",
   "execution_count": 23,
   "metadata": {},
   "outputs": [
    {
     "name": "stdout",
     "output_type": "stream",
     "text": [
      "Correlation between Minutes and eFG% is 0.2935058853180998\n"
     ]
    },
    {
     "data": {
      "image/png": "[encoded data removed]",
      "text/plain": [
       "<Figure size 432x288 with 1 Axes>"
      ]
     },
     "metadata": {
      "needs_background": "light"
     },
     "output_type": "display_data"
    }
   ],
   "source": [
    "minutes = mvp.iloc[:,24]\n",
    "efg = mvp.iloc[:,15]\n",
    "plt.scatter(minutes,efg)\n",
    "plt.xlabel(\"Minutes\")\n",
    "plt.ylabel(\"eFG%\")\n",
    "plt.show\n",
    "\n",
    "correlation = st.pearsonr(minutes, efg)\n",
    "print(f\"Correlation between Minutes and eFG% is {correlation[0]}\")"
   ]
  },
  {
   "cell_type": "code",
   "execution_count": null,
   "metadata": {},
   "outputs": [],
   "source": [
    "minutes = mvp.iloc[:,24]\n",
    "efg = mvp.iloc[:,15]\n",
    "plt.scatter(minutes,efg)\n",
    "plt.xlabel(\"Minutes\")\n",
    "plt.ylabel(\"eFG%\")\n",
    "plt.show\n",
    "\n",
    "correlation = st.pearsonr(minutes, efg)\n",
    "print(f\"Correlation between Minutes and eFG% is {correlation[0]}\")"
   ]
  }
 ],
 "metadata": {
  "kernelspec": {
   "display_name": "Python 3",
   "language": "python",
   "name": "python3"
  },
  "language_info": {
   "codemirror_mode": {
    "name": "ipython",
    "version": 3
   },
   "file_extension": ".py",
   "mimetype": "text/x-python",
   "name": "python",
   "nbconvert_exporter": "python",
   "pygments_lexer": "ipython3",
   "version": "3.6.10"
  }
 },
 "nbformat": 4,
 "nbformat_minor": 4
}
