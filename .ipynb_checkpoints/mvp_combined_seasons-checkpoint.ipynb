{
 "cells": [
  {
   "cell_type": "code",
   "execution_count": null,
   "metadata": {},
   "outputs": [],
   "source": [
    "import pandas as pd"
   ]
  },
  {
   "cell_type": "code",
   "execution_count": 5,
   "metadata": {},
   "outputs": [],
   "source": [
    "Files = [\"Data/sportsref_download1979-80.csv\",\n",
    "          \"Data/sportsref_download1980-81.csv\",\n",
    "          \"Data/sportsref_download1981-82.csv\",\n",
    "          \"Data/sportsref_download1982-83.csv\",\n",
    "          \"Data/sportsref_download1983-84.csv\",\n",
    "          \"Data/sportsref_download1984-85.csv\",\n",
    "          \"Data/sportsref_download1985-86.csv\",\n",
    "          \"Data/sportsref_download1986-87.csv\",\n",
    "          \"Data/sportsref_download1987-88.csv\",\n",
    "          \"Data/sportsref_download1988-89.csv\",\n",
    "          \"Data/sportsref_download1989-90.csv\",\n",
    "          \"Data/sportsref_download1990-91.csv\",\n",
    "          \"Data/sportsref_download1991-92.csv\",\n",
    "          \"Data/sportsref_download1992-93.csv\",\n",
    "          \"Data/sportsref_download1993-94.csv\",\n",
    "          \"Data/sportsref_download1994-95.csv\",\n",
    "          \"Data/sportsref_download1995-96.csv\",\n",
    "          \"Data/sportsref_download1996-97.csv\",\n",
    "          \"Data/sportsref_download1997-98.csv\",\n",
    "          \"Data/sportsref_download1998-99.csv\",\n",
    "          \"Data/sportsref_download1999-00.csv\",\n",
    "          \"Data/sportsref_download2000-01.csv\",\n",
    "          \"Data/sportsref_download2001-02.csv\",\n",
    "          \"Data/sportsref_download2002-03.csv\",\n",
    "          \"Data/sportsref_download2003-04.csv\",\n",
    "          \"Data/sportsref_download2004-05.csv\",\n",
    "          \"Data/sportsref_download2005-06.csv\",\n",
    "          \"Data/sportsref_download2006-07.csv\",\n",
    "          \"Data/sportsref_download2007-08.csv\",\n",
    "          \"Data/sportsref_download2008-09.csv\",\n",
    "          \"Data/sportsref_download2009-10.csv\",\n",
    "          \"Data/sportsref_download2010-11.csv\",\n",
    "          \"Data/sportsref_download2011-12.csv\",\n",
    "          \"Data/sportsref_download2012-13.csv\",\n",
    "          \"Data/sportsref_download2013-14.csv\",\n",
    "          \"Data/sportsref_download2014-15.csv\",\n",
    "          \"Data/sportsref_download2015-16.csv\",\n",
    "          \"Data/sportsref_download2016-17.csv\",\n",
    "          \"Data/sportsref_download2017-18.csv\",\n",
    "          \"Data/sportsref_download2018-19.csv\"]"
   ]
  },
  {
   "cell_type": "code",
   "execution_count": 6,
   "metadata": {},
   "outputs": [],
   "source": [
    "mvp_df = pd.DataFrame()"
   ]
  },
  {
   "cell_type": "code",
   "execution_count": null,
   "metadata": {},
   "outputs": [],
   "source": [
    "for file in Files:\n",
    "    df = pd.read_csv(file)\n",
    "    mvp_df = mvp_df.append(df)"
   ]
  },
  {
   "cell_type": "code",
   "execution_count": null,
   "metadata": {},
   "outputs": [],
   "source": [
    "mvp_df.drop_duplicates()"
   ]
  },
  {
   "cell_type": "code",
   "execution_count": 13,
   "metadata": {},
   "outputs": [],
   "source": [
    "mvp_df.to_csv(\"Data/MVP.csv\")"
   ]
  },
  {
   "cell_type": "code",
   "execution_count": null,
   "metadata": {},
   "outputs": [],
   "source": []
  }
 ],
 "metadata": {
  "kernelspec": {
   "display_name": "Python 3",
   "language": "python",
   "name": "python3"
  },
  "language_info": {
   "codemirror_mode": {
    "name": "ipython",
    "version": 3
   },
   "file_extension": ".py",
   "mimetype": "text/x-python",
   "name": "python",
   "nbconvert_exporter": "python",
   "pygments_lexer": "ipython3",
   "version": "3.6.10"
  }
 },
 "nbformat": 4,
 "nbformat_minor": 4
}
